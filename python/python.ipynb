import yfinance as yf
import numpy as np
import pandas as pd
import matplotlib.pyplot as plt
from sklearn.preprocessing import MinMaxScaler
from sklearn.metrics import mean_squared_error, mean_absolute_error
from tensorflow.keras.models import Sequential
from tensorflow.keras.layers import LSTM, Dense
import warnings
import os
from datetime import datetime  
warnings.filterwarnings('ignore')

# สร้าง folder สำหรับเก็บ CSV files
os.makedirs('data_warehouse', exist_ok=True)
os.makedirs('data_warehouse/raw_data', exist_ok=True)
os.makedirs('data_warehouse/predictions', exist_ok=True)
os.makedirs('data_warehouse/analytics', exist_ok=True)

# 1. กำหนด 7 Angel Stocks
angel_stocks = {
    'AAPL': 'Apple Inc.',
    'MSFT': 'Microsoft Corp.',
    'GOOGL': 'Alphabet Inc.',
    'TSLA': 'Tesla Inc.',
    'NVDA': 'NVIDIA Corp.',
    'META': 'Meta Platforms Inc.',
    'AMZN': 'Amazon.com Inc.'
}

print("🌟 7 Angel Stocks LSTM Prediction + Data Warehouse 🌟")
print("=" * 60)
print("📊 Data Source: Yahoo Finance API (yfinance)")
print("💾 CSV Files will be saved to: ./data_warehouse/")
print("=" * 60)

# 2. ฟังก์ชันสำหรับสร้างข้อมูลลำดับ
def create_sequences(data, sequence_length=60):
    X, y = [], []
    for i in range(sequence_length, len(data)):
        X.append(data[i-sequence_length:i])
        y.append(data[i])
    return np.array(X), np.array(y)

# 3. ฟังก์ชันสำหรับสร้างและฝึก LSTM model
def create_lstm_model(input_shape):
    model = Sequential([
        LSTM(50, return_sequences=True, input_shape=input_shape),
        LSTM(50, return_sequences=False),
        Dense(25),
        Dense(1)
    ])
    model.compile(optimizer='adam', loss='mean_squared_error')
    return model

# 4. ฟังก์ชันสำหรับคำนวณ metrics
def calculate_metrics(actual, predicted):
    mse = mean_squared_error(actual, predicted)
    mae = mean_absolute_error(actual, predicted)
    rmse = np.sqrt(mse)
    return mse, mae, rmse

# 5. เก็บผลลัพธ์
results = {}
predictions_data = {}
all_raw_data = []  # สำหรับรวมข้อมูลดิบทั้งหมด
all_predictions = []  # สำหรับรวมข้อมูลพยากรณ์ทั้งหมด

# 6. วนลูปผ่านแต่ละหุ้น
plt.figure(figsize=(20, 15))

for idx, (symbol, name) in enumerate(angel_stocks.items(), 1):
    print(f"\n📈 Processing {symbol} - {name}")
    
    try:
        # โหลดข้อมูลหุ้น
        print(f"📥 กำลังดาวน์โหลดข้อมูล {symbol} จาก Yahoo Finance...")
        df = yf.download(symbol, start='2015-01-01', end='2024-12-31', progress=False)
        
        # เพิ่มข้อมูลสำหรับ Data Warehouse
        df_warehouse = df.copy()
        df_warehouse['Symbol'] = symbol
        df_warehouse['Company_Name'] = name
        df_warehouse['Date'] = df_warehouse.index
        df_warehouse = df_warehouse.reset_index(drop=True)
        
        # บันทึกข้อมูลดิบแต่ละหุ้น
        csv_filename = f'data_warehouse/raw_data/{symbol}_raw_data.csv'
        df_warehouse.to_csv(csv_filename, index=False)
        print(f"💾 บันทึก {symbol} raw data -> {csv_filename}")
        
        # เพิ่มเข้า all_raw_data
        all_raw_data.append(df_warehouse)
        
        data = df[['Close']].copy()
        
        if len(data) < 100:  # ตรวจสอบว่ามีข้อมูลเพียงพอ
            print(f"⚠️ ข้อมูล {symbol} ไม่เพียงพอ")
            continue
        
        # Scaling
        scaler = MinMaxScaler()
        scaled_data = scaler.fit_transform(data)
        
        # สร้างชุดข้อมูลลำดับ
        sequence_length = 60
        X, y = create_sequences(scaled_data, sequence_length)
        
        if len(X) == 0:
            print(f"⚠️ ไม่สามารถสร้างลำดับข้อมูลสำหรับ {symbol}")
            continue
        
        # แบ่ง train/test
        train_size = int(len(X) * 0.8)
        X_train, X_test = X[:train_size], X[train_size:]
        y_train, y_test = y[:train_size], y[train_size:]
        
        # สร้างและฝึก LSTM
        model = create_lstm_model((X.shape[1], 1))
        
        print(f"🔄 กำลังฝึก model สำหรับ {symbol}...")
        history = model.fit(X_train, y_train, epochs=20, batch_size=32, 
                          validation_split=0.1, verbose=0)
        
        # พยากรณ์
        predicted = model.predict(X_test, verbose=0)
        predicted_prices = scaler.inverse_transform(predicted)
        real_prices = scaler.inverse_transform(y_test)
        
        # คำนวณ metrics
        mse, mae, rmse = calculate_metrics(real_prices, predicted_prices)
        
        # เก็บผลลัพธ์
        results[symbol] = {
            'name': name,
            'mse': mse,
            'mae': mae,
            'rmse': rmse,
            'last_price': real_prices[-1][0],
            'predicted_next': predicted_prices[-1][0]
        }
        
        predictions_data[symbol] = {
            'actual': real_prices.flatten(),
            'predicted': predicted_prices.flatten(),
            'dates': data.index[train_size + sequence_length:]
        }
        
        # สร้าง DataFrame สำหรับ predictions และบันทึกเป็น CSV
        pred_df = pd.DataFrame({
            'Date': data.index[train_size + sequence_length:],
            'Symbol': symbol,
            'Company_Name': name,
            'Actual_Price': real_prices.flatten(),
            'Predicted_Price': predicted_prices.flatten(),
            'Prediction_Error': real_prices.flatten() - predicted_prices.flatten(),
            'Error_Percentage': ((real_prices.flatten() - predicted_prices.flatten()) / real_prices.flatten()) * 100
        })
        
        # บันทึกการพยากรณ์แต่ละหุ้น
        pred_filename = f'data_warehouse/predictions/{symbol}_predictions.csv'
        pred_df.to_csv(pred_filename, index=False)
        print(f"💾 บันทึก {symbol} predictions -> {pred_filename}")
        
        # เพิ่มเข้า all_predictions
        all_predictions.append(pred_df)
        
        # สร้างกราฟ
        plt.subplot(3, 3, idx)
        plt.plot(real_prices, label='Actual', alpha=0.7, linewidth=2)
        plt.plot(predicted_prices, label='Predicted', alpha=0.7, linewidth=2)
        plt.title(f'{symbol} - {name}\nRMSE: {rmse:.2f}', fontsize=10)
        plt.legend(fontsize=8)
        plt.grid(True, alpha=0.3)
        
        print(f"✅ {symbol} สำเร็จ - RMSE: {rmse:.2f}")
        
    except Exception as e:
        print(f"❌ เกิดข้อผิดพลาดกับ {symbol}: {str(e)}")
        continue

plt.tight_layout()
plt.suptitle('7 Angel Stocks - LSTM Price Predictions', fontsize=16, y=1.02)
plt.show()

# 7. สรุปผลลัพธ์
print("\n" + "="*80)
print("📊 SUMMARY RESULTS - 7 ANGEL STOCKS")
print("="*80)

if results:
    # สร้าง DataFrame สำหรับสรุป
    summary_df = pd.DataFrame(results).T
    summary_df = summary_df.round(2)
    
    print("\n🏆 PERFORMANCE RANKING (จากดีที่สุด - RMSE ต่ำสุด)")
    print("-" * 60)
    
    sorted_results = sorted(results.items(), key=lambda x: x[1]['rmse'])
    
    for rank, (symbol, data) in enumerate(sorted_results, 1):
        print(f"{rank}. {symbol} ({data['name']})")
        print(f"   RMSE: ${data['rmse']:.2f} | MAE: ${data['mae']:.2f}")
        print(f"   ราคาล่าสุด: ${data['last_price']:.2f}")
        print(f"   พยากรณ์: ${data['predicted_next']:.2f}")
        change = ((data['predicted_next'] - data['last_price']) / data['last_price']) * 100
        trend = "📈" if change > 0 else "📉"
        print(f"   แนวโน้ม: {trend} {change:+.1f}%")
        print()
    
    # แสดงสถิติรวม
    avg_rmse = np.mean([data['rmse'] for data in results.values()])
    best_stock = min(results.items(), key=lambda x: x[1]['rmse'])
    worst_stock = max(results.items(), key=lambda x: x[1]['rmse'])
    
    print(f"📈 PORTFOLIO STATISTICS")
    print(f"Average RMSE: ${avg_rmse:.2f}")
    print(f"Best Performer: {best_stock[0]} (RMSE: ${best_stock[1]['rmse']:.2f})")
    print(f"Needs Improvement: {worst_stock[0]} (RMSE: ${worst_stock[1]['rmse']:.2f})")
    
    # แสดงข้อเสนอแนะ
    print(f"\n💡 INVESTMENT INSIGHTS")
    print(f"✨ หุ้นที่มีแนวโน้มดี (พยากรณ์เพิ่มขึ้น > 2%):")
    for symbol, data in results.items():
        change = ((data['predicted_next'] - data['last_price']) / data['last_price']) * 100
        if change > 2:
            print(f"   📈 {symbol}: +{change:.1f}%")
    
    print(f"\n⚠️  หุ้นที่ควรระวัง (พยากรณ์ลดลง > 2%):")
    for symbol, data in results.items():
        change = ((data['predicted_next'] - data['last_price']) / data['last_price']) * 100
        if change < -2:
            print(f"   📉 {symbol}: {change:.1f}%")

else:
    print("❌ ไม่มีข้อมูลที่ประมวลผลสำเร็จ")

print("\n🌟 Happy Trading with 7 Angel Stocks! 🌟")
